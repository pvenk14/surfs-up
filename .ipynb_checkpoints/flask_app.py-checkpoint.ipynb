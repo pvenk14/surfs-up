{
 "cells": [
  {
   "cell_type": "code",
   "execution_count": 1,
   "metadata": {},
   "outputs": [],
   "source": [
    "from flask import Flask, render_template, redirect, jsonify\n",
    "import datetime as dt\n",
    "import numpy as np\n",
    "import pandas as pd\n",
    "\n",
    "import sqlalchemy\n",
    "from sqlalchemy.ext.automap import automap_base\n",
    "from sqlalchemy.orm import Session\n",
    "from sqlalchemy import create_engine, func\n"
   ]
  },
  {
   "cell_type": "code",
   "execution_count": 4,
   "metadata": {},
   "outputs": [],
   "source": [
    "#################################################\n",
    "# Database Setup\n",
    "#################################################\n",
    "engine = create_engine(\"sqlite:///hawaii.sqlite\")\n",
    "\n",
    "# reflect an existing database into a new model\n",
    "Base = automap_base()\n",
    "# reflect the tables\n",
    "Base.prepare(engine, reflect=True)\n",
    "\n",
    "# Save reference to the table\n",
    "measurement = Base.classes.measurement\n",
    "station = Base.classes.station\n",
    "\n",
    "# Create our session (link) from Python to the DB\n",
    "session = Session(engine)\n",
    "\n",
    "#################################################\n",
    "# Flask Setup\n",
    "#################################################\n",
    "app = Flask(__name__)\n",
    "\n",
    "#################################################\n",
    "# Flask Routes\n",
    "#################################################\n",
    "\n",
    "@app.route(\"/\")\n",
    "def welcome():\n",
    "    \"\"\"Welcome to Surfs Up.\"\"\"\n",
    "    return (\n",
    "        f\"Available Routes:<br/>\"\n",
    "        f\"/api/v1.0/precipitation<br/>\"\n",
    "        f\"/api/v1.0/stations<br/>\"\n",
    "        f\"/api/v1.0/tobs<br/>\"\n",
    "        f\"/api/v1.0/<start><br/>\"\n",
    "        f\"/api/v1.0/<start>/<end><br/>\"\n",
    "    )\n",
    "\n",
    "@app.route(\"/api/v1.0/precipitation\")\n",
    "\n",
    "def precipitation():\n",
    "    #Query for the dates and temperature observations from the last year.\n",
    "    last_date = session.query(Measurement.date).order_by(Measurement.date.desc()).first()\n",
    "    last_date = dt.datetime.strptime(last_date[0], '%Y-%m-%d')\n",
    "    # Find the start date of last year\n",
    "    start_date = last_date - dt.timedelta(days=365)\n",
    "    # Formatting the start date\n",
    "    start_date = start_date.strftime(\"%Y-%m-%d\")\n",
    "    \n",
    "    #Query to retreive the precipitation from last year\n",
    "    prcp=session.query(Measurement.date,Measurement.prcp).\\\n",
    "            filter(Measurement.date>=start_date).\\\n",
    "            order_by(Measurement.date.desc()).all()\n",
    "    \n",
    "    # Create a list to store the result for each date as a dictionary in the list\n",
    "    precip_list=[]\n",
    "    for x in prcp:\n",
    "        precip_item={\"Date\": x[0], \"Precipitation\": x[1]}\n",
    "        precip_list.append(prcp_item)\n",
    "        \n",
    "    # Return the jsonify list\n",
    "    return jsonify(precip_list)\n"
   ]
  },
  {
   "cell_type": "code",
   "execution_count": null,
   "metadata": {},
   "outputs": [],
   "source": []
  }
 ],
 "metadata": {
  "kernelspec": {
   "display_name": "Python 3",
   "language": "python",
   "name": "python3"
  },
  "language_info": {
   "codemirror_mode": {
    "name": "ipython",
    "version": 3
   },
   "file_extension": ".py",
   "mimetype": "text/x-python",
   "name": "python",
   "nbconvert_exporter": "python",
   "pygments_lexer": "ipython3",
   "version": "3.6.4"
  }
 },
 "nbformat": 4,
 "nbformat_minor": 2
}
